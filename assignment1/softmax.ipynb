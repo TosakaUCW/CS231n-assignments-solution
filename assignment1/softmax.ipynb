{
 "cells": [
  {
   "cell_type": "code",
   "execution_count": null,
   "id": "d8aaae81",
   "metadata": {},
   "outputs": [],
   "source": [
    "# This mounts your Google Drive to the Colab VM.\n",
    "from google.colab import drive\n",
    "drive.mount('/content/drive')\n",
    "\n",
    "# TODO: Enter the foldername in your Drive where you have saved the unzipped\n",
    "# assignment folder, e.g. 'cs231n/assignments/assignment1/'\n",
    "FOLDERNAME = None\n",
    "assert FOLDERNAME is not None, \"[!] Enter the foldername.\"\n",
    "\n",
    "# Now that we've mounted your Drive, this ensures that\n",
    "# the Python interpreter of the Colab VM can load\n",
    "# python files from within it.\n",
    "import sys\n",
    "sys.path.append('/content/drive/My Drive/{}'.format(FOLDERNAME))\n",
    "\n",
    "# This downloads the CIFAR-10 dataset to your Drive\n",
    "# if it doesn't already exist.\n",
    "%cd /content/drive/My\\ Drive/$FOLDERNAME/cs231n/datasets/\n",
    "!bash get_datasets.sh\n",
    "%cd /content/drive/My\\ Drive/$FOLDERNAME"
   ]
  },
  {
   "cell_type": "markdown",
   "id": "e2c3cfa1",
   "metadata": {
    "tags": [
     "pdf-title"
    ]
   },
   "source": [
    "# Softmax exercise\n",
    "\n",
    "*Complete and hand in this completed worksheet (including its outputs and any supporting code outside of the worksheet) with your assignment submission. For more details see the [assignments page](http://vision.stanford.edu/teaching/cs231n/assignments.html) on the course website.*\n",
    "\n",
    "This exercise is analogous to the SVM exercise. You will:\n",
    "\n",
    "- implement a fully-vectorized **loss function** for the Softmax classifier\n",
    "- implement the fully-vectorized expression for its **analytic gradient**\n",
    "- **check your implementation** with numerical gradient\n",
    "- use a validation set to **tune the learning rate and regularization** strength\n",
    "- **optimize** the loss function with **SGD**\n",
    "- **visualize** the final learned weights\n"
   ]
  },
  {
   "cell_type": "code",
   "execution_count": 1,
   "id": "c55a72bf",
   "metadata": {
    "tags": [
     "pdf-ignore"
    ]
   },
   "outputs": [],
   "source": [
    "import random\n",
    "import numpy as np\n",
    "from cs231n.data_utils import load_CIFAR10\n",
    "import matplotlib.pyplot as plt\n",
    "\n",
    "%matplotlib inline\n",
    "plt.rcParams['figure.figsize'] = (10.0, 8.0) # set default size of plots\n",
    "plt.rcParams['image.interpolation'] = 'nearest'\n",
    "plt.rcParams['image.cmap'] = 'gray'\n",
    "\n",
    "# for auto-reloading extenrnal modules\n",
    "# see http://stackoverflow.com/questions/1907993/autoreload-of-modules-in-ipython\n",
    "%load_ext autoreload\n",
    "%autoreload 2"
   ]
  },
  {
   "cell_type": "code",
   "execution_count": 2,
   "id": "b99594ec",
   "metadata": {
    "tags": [
     "pdf-ignore"
    ]
   },
   "outputs": [
    {
     "name": "stdout",
     "output_type": "stream",
     "text": [
      "Train data shape:  (49000, 3073)\n",
      "Train labels shape:  (49000,)\n",
      "Validation data shape:  (1000, 3073)\n",
      "Validation labels shape:  (1000,)\n",
      "Test data shape:  (1000, 3073)\n",
      "Test labels shape:  (1000,)\n",
      "dev data shape:  (500, 3073)\n",
      "dev labels shape:  (500,)\n"
     ]
    }
   ],
   "source": [
    "def get_CIFAR10_data(num_training=49000, num_validation=1000, num_test=1000, num_dev=500):\n",
    "    \"\"\"\n",
    "    Load the CIFAR-10 dataset from disk and perform preprocessing to prepare\n",
    "    it for the linear classifier. These are the same steps as we used for the\n",
    "    SVM, but condensed to a single function.  \n",
    "    \"\"\"\n",
    "    # Load the raw CIFAR-10 data\n",
    "    cifar10_dir = 'cs231n/datasets/cifar-10-batches-py'\n",
    "    \n",
    "    # Cleaning up variables to prevent loading data multiple times (which may cause memory issue)\n",
    "    try:\n",
    "       del X_train, y_train\n",
    "       del X_test, y_test\n",
    "       print('Clear previously loaded data.')\n",
    "    except:\n",
    "       pass\n",
    "\n",
    "    X_train, y_train, X_test, y_test = load_CIFAR10(cifar10_dir)\n",
    "    \n",
    "    # subsample the data\n",
    "    mask = list(range(num_training, num_training + num_validation))\n",
    "    X_val = X_train[mask]\n",
    "    y_val = y_train[mask]\n",
    "    mask = list(range(num_training))\n",
    "    X_train = X_train[mask]\n",
    "    y_train = y_train[mask]\n",
    "    mask = list(range(num_test))\n",
    "    X_test = X_test[mask]\n",
    "    y_test = y_test[mask]\n",
    "    mask = np.random.choice(num_training, num_dev, replace=False)\n",
    "    X_dev = X_train[mask]\n",
    "    y_dev = y_train[mask]\n",
    "    \n",
    "    # Preprocessing: reshape the image data into rows\n",
    "    X_train = np.reshape(X_train, (X_train.shape[0], -1))\n",
    "    X_val = np.reshape(X_val, (X_val.shape[0], -1))\n",
    "    X_test = np.reshape(X_test, (X_test.shape[0], -1))\n",
    "    X_dev = np.reshape(X_dev, (X_dev.shape[0], -1))\n",
    "    \n",
    "    # Normalize the data: subtract the mean image\n",
    "    mean_image = np.mean(X_train, axis = 0)\n",
    "    X_train -= mean_image\n",
    "    X_val -= mean_image\n",
    "    X_test -= mean_image\n",
    "    X_dev -= mean_image\n",
    "    \n",
    "    # add bias dimension and transform into columns\n",
    "    X_train = np.hstack([X_train, np.ones((X_train.shape[0], 1))])\n",
    "    X_val = np.hstack([X_val, np.ones((X_val.shape[0], 1))])\n",
    "    X_test = np.hstack([X_test, np.ones((X_test.shape[0], 1))])\n",
    "    X_dev = np.hstack([X_dev, np.ones((X_dev.shape[0], 1))])\n",
    "    \n",
    "    return X_train, y_train, X_val, y_val, X_test, y_test, X_dev, y_dev\n",
    "\n",
    "\n",
    "# Invoke the above function to get our data.\n",
    "X_train, y_train, X_val, y_val, X_test, y_test, X_dev, y_dev = get_CIFAR10_data()\n",
    "print('Train data shape: ', X_train.shape)\n",
    "print('Train labels shape: ', y_train.shape)\n",
    "print('Validation data shape: ', X_val.shape)\n",
    "print('Validation labels shape: ', y_val.shape)\n",
    "print('Test data shape: ', X_test.shape)\n",
    "print('Test labels shape: ', y_test.shape)\n",
    "print('dev data shape: ', X_dev.shape)\n",
    "print('dev labels shape: ', y_dev.shape)"
   ]
  },
  {
   "cell_type": "markdown",
   "id": "2713b7f4",
   "metadata": {},
   "source": [
    "## Softmax Classifier\n",
    "\n",
    "Your code for this section will all be written inside `cs231n/classifiers/softmax.py`.\n"
   ]
  },
  {
   "cell_type": "code",
   "execution_count": 18,
   "id": "6168f67e",
   "metadata": {},
   "outputs": [
    {
     "name": "stdout",
     "output_type": "stream",
     "text": [
      "loss: 2.396957\n",
      "sanity check: 2.302585\n"
     ]
    }
   ],
   "source": [
    "# First implement the naive softmax loss function with nested loops.\n",
    "# Open the file cs231n/classifiers/softmax.py and implement the\n",
    "# softmax_loss_naive function.\n",
    "\n",
    "from cs231n.classifiers.softmax import softmax_loss_naive\n",
    "import time\n",
    "\n",
    "# Generate a random softmax weight matrix and use it to compute the loss.\n",
    "W = np.random.randn(3073, 10) * 0.0001\n",
    "loss, grad = softmax_loss_naive(W, X_dev, y_dev, 0.0)\n",
    "\n",
    "# As a rough sanity check, our loss should be something close to -log(0.1).\n",
    "print('loss: %f' % loss)\n",
    "print('sanity check: %f' % (-np.log(0.1)))"
   ]
  },
  {
   "cell_type": "markdown",
   "id": "b35bc604",
   "metadata": {
    "tags": [
     "pdf-inline"
    ]
   },
   "source": [
    "**Inline Question 1**\n",
    "\n",
    "Why do we expect our loss to be close to -log(0.1)? Explain briefly.**\n",
    "\n",
    "$\\color{blue}{\\textit Your Answer:}$ \n",
    "\n",
    "有 10 个类别，所以平均而言，通过随机猜测正确分类真实标签的概率为 0.1。\n",
    "\n",
    "我们希望概率接近 0.1\n"
   ]
  },
  {
   "cell_type": "code",
   "execution_count": 19,
   "id": "b7bef674",
   "metadata": {},
   "outputs": [
    {
     "name": "stdout",
     "output_type": "stream",
     "text": [
      "numerical: 0.994886 analytic: 0.994886, relative error: 4.040906e-08\n",
      "numerical: -0.110419 analytic: -0.110419, relative error: 5.890618e-08\n",
      "numerical: 2.673210 analytic: 2.673210, relative error: 3.454302e-08\n",
      "numerical: -0.554525 analytic: -0.554525, relative error: 9.031858e-08\n",
      "numerical: -0.064739 analytic: -0.064739, relative error: 4.892423e-07\n",
      "numerical: 0.437539 analytic: 0.437539, relative error: 1.084708e-08\n",
      "numerical: 2.071003 analytic: 2.071003, relative error: 1.726489e-08\n",
      "numerical: -0.661887 analytic: -0.661887, relative error: 8.552310e-08\n",
      "numerical: 2.238773 analytic: 2.238772, relative error: 4.553863e-08\n",
      "numerical: -1.071853 analytic: -1.071853, relative error: 1.000644e-09\n",
      "numerical: -0.529727 analytic: -0.529727, relative error: 1.408935e-07\n",
      "numerical: -1.015710 analytic: -1.015710, relative error: 3.644312e-08\n",
      "numerical: 3.409544 analytic: 3.409544, relative error: 1.114026e-08\n",
      "numerical: 1.811444 analytic: 1.811444, relative error: 1.141884e-10\n",
      "numerical: -0.211312 analytic: -0.211312, relative error: 1.126727e-07\n",
      "numerical: -0.107410 analytic: -0.107410, relative error: 6.769405e-07\n",
      "numerical: -0.524265 analytic: -0.524265, relative error: 6.052658e-08\n",
      "numerical: -0.466537 analytic: -0.466538, relative error: 1.119220e-07\n",
      "numerical: 3.848656 analytic: 3.848656, relative error: 9.182922e-09\n",
      "numerical: -1.667093 analytic: -1.667093, relative error: 3.443010e-08\n"
     ]
    }
   ],
   "source": [
    "# Complete the implementation of softmax_loss_naive and implement a (naive)\n",
    "# version of the gradient that uses nested loops.\n",
    "loss, grad = softmax_loss_naive(W, X_dev, y_dev, 0.0)\n",
    "\n",
    "# As we did for the SVM, use numeric gradient checking as a debugging tool.\n",
    "# The numeric gradient should be close to the analytic gradient.\n",
    "from cs231n.gradient_check import grad_check_sparse\n",
    "f = lambda w: softmax_loss_naive(w, X_dev, y_dev, 0.0)[0]\n",
    "grad_numerical = grad_check_sparse(f, W, grad, 10)\n",
    "\n",
    "# similar to SVM case, do another gradient check with regularization\n",
    "loss, grad = softmax_loss_naive(W, X_dev, y_dev, 5e1)\n",
    "f = lambda w: softmax_loss_naive(w, X_dev, y_dev, 5e1)[0]\n",
    "grad_numerical = grad_check_sparse(f, W, grad, 10)"
   ]
  },
  {
   "cell_type": "code",
   "execution_count": 28,
   "id": "3994f8a3",
   "metadata": {},
   "outputs": [
    {
     "name": "stdout",
     "output_type": "stream",
     "text": [
      "naive loss: 2.396957e+00 computed in 0.058194s\n",
      "vectorized loss: 2.396957e+00 computed in 0.003887s\n",
      "Loss difference: 0.000000\n",
      "Gradient difference: 0.000000\n"
     ]
    }
   ],
   "source": [
    "# Now that we have a naive implementation of the softmax loss function and its gradient,\n",
    "# implement a vectorized version in softmax_loss_vectorized.\n",
    "# The two versions should compute the same results, but the vectorized version should be\n",
    "# much faster.\n",
    "tic = time.time()\n",
    "loss_naive, grad_naive = softmax_loss_naive(W, X_dev, y_dev, 0.000005)\n",
    "toc = time.time()\n",
    "print('naive loss: %e computed in %fs' % (loss_naive, toc - tic))\n",
    "\n",
    "from cs231n.classifiers.softmax import softmax_loss_vectorized\n",
    "tic = time.time()\n",
    "loss_vectorized, grad_vectorized = softmax_loss_vectorized(W, X_dev, y_dev, 0.000005)\n",
    "toc = time.time()\n",
    "print('vectorized loss: %e computed in %fs' % (loss_vectorized, toc - tic))\n",
    "\n",
    "# As we did for the SVM, we use the Frobenius norm to compare the two versions\n",
    "# of the gradient.\n",
    "grad_difference = np.linalg.norm(grad_naive - grad_vectorized, ord='fro')\n",
    "print('Loss difference: %f' % np.abs(loss_naive - loss_vectorized))\n",
    "print('Gradient difference: %f' % grad_difference)"
   ]
  },
  {
   "cell_type": "code",
   "execution_count": 38,
   "id": "bd171311",
   "metadata": {
    "tags": [
     "code"
    ],
    "test": "tuning"
   },
   "outputs": [
    {
     "name": "stdout",
     "output_type": "stream",
     "text": [
      "lr 7.500000e-08 reg 3.000000e+04 train accuracy: 0.329673 val accuracy: 0.342000\n",
      "lr 7.500000e-08 reg 3.250000e+04 train accuracy: 0.321510 val accuracy: 0.337000\n",
      "lr 7.500000e-08 reg 3.500000e+04 train accuracy: 0.317959 val accuracy: 0.332000\n",
      "lr 7.500000e-08 reg 3.750000e+04 train accuracy: 0.318286 val accuracy: 0.336000\n",
      "lr 7.500000e-08 reg 4.000000e+04 train accuracy: 0.307612 val accuracy: 0.322000\n",
      "lr 7.500000e-08 reg 4.250000e+04 train accuracy: 0.314265 val accuracy: 0.331000\n",
      "lr 7.500000e-08 reg 4.500000e+04 train accuracy: 0.309429 val accuracy: 0.329000\n",
      "lr 7.500000e-08 reg 4.750000e+04 train accuracy: 0.303592 val accuracy: 0.322000\n",
      "lr 7.500000e-08 reg 5.000000e+04 train accuracy: 0.308327 val accuracy: 0.324000\n",
      "lr 1.250000e-07 reg 3.000000e+04 train accuracy: 0.315878 val accuracy: 0.332000\n",
      "lr 1.250000e-07 reg 3.250000e+04 train accuracy: 0.329592 val accuracy: 0.346000\n",
      "lr 1.250000e-07 reg 3.500000e+04 train accuracy: 0.316469 val accuracy: 0.331000\n",
      "lr 1.250000e-07 reg 3.750000e+04 train accuracy: 0.313388 val accuracy: 0.324000\n",
      "lr 1.250000e-07 reg 4.000000e+04 train accuracy: 0.320082 val accuracy: 0.335000\n",
      "lr 1.250000e-07 reg 4.250000e+04 train accuracy: 0.312694 val accuracy: 0.329000\n",
      "lr 1.250000e-07 reg 4.500000e+04 train accuracy: 0.309224 val accuracy: 0.323000\n",
      "lr 1.250000e-07 reg 4.750000e+04 train accuracy: 0.306224 val accuracy: 0.323000\n",
      "lr 1.250000e-07 reg 5.000000e+04 train accuracy: 0.305714 val accuracy: 0.325000\n",
      "lr 1.500000e-07 reg 3.000000e+04 train accuracy: 0.324347 val accuracy: 0.339000\n",
      "lr 1.500000e-07 reg 3.250000e+04 train accuracy: 0.315755 val accuracy: 0.335000\n",
      "lr 1.500000e-07 reg 3.500000e+04 train accuracy: 0.314959 val accuracy: 0.330000\n",
      "lr 1.500000e-07 reg 3.750000e+04 train accuracy: 0.316796 val accuracy: 0.328000\n",
      "lr 1.500000e-07 reg 4.000000e+04 train accuracy: 0.316408 val accuracy: 0.328000\n",
      "lr 1.500000e-07 reg 4.250000e+04 train accuracy: 0.313347 val accuracy: 0.338000\n",
      "lr 1.500000e-07 reg 4.500000e+04 train accuracy: 0.301306 val accuracy: 0.317000\n",
      "lr 1.500000e-07 reg 4.750000e+04 train accuracy: 0.310082 val accuracy: 0.331000\n",
      "lr 1.500000e-07 reg 5.000000e+04 train accuracy: 0.312041 val accuracy: 0.322000\n",
      "lr 2.000000e-07 reg 3.000000e+04 train accuracy: 0.325612 val accuracy: 0.341000\n",
      "lr 2.000000e-07 reg 3.250000e+04 train accuracy: 0.313347 val accuracy: 0.328000\n",
      "lr 2.000000e-07 reg 3.500000e+04 train accuracy: 0.311633 val accuracy: 0.326000\n",
      "lr 2.000000e-07 reg 3.750000e+04 train accuracy: 0.313388 val accuracy: 0.325000\n",
      "lr 2.000000e-07 reg 4.000000e+04 train accuracy: 0.307449 val accuracy: 0.331000\n",
      "lr 2.000000e-07 reg 4.250000e+04 train accuracy: 0.312286 val accuracy: 0.335000\n",
      "lr 2.000000e-07 reg 4.500000e+04 train accuracy: 0.318714 val accuracy: 0.328000\n",
      "lr 2.000000e-07 reg 4.750000e+04 train accuracy: 0.306367 val accuracy: 0.321000\n",
      "lr 2.000000e-07 reg 5.000000e+04 train accuracy: 0.314122 val accuracy: 0.327000\n",
      "best validation accuracy achieved during cross-validation: 0.346000\n"
     ]
    }
   ],
   "source": [
    "# Use the validation set to tune hyperparameters (regularization strength and\n",
    "# learning rate). You should experiment with different ranges for the learning\n",
    "# rates and regularization strengths; if you are careful you should be able to\n",
    "# get a classification accuracy of over 0.35 on the validation set.\n",
    "\n",
    "from cs231n.classifiers import Softmax\n",
    "results = {}\n",
    "best_val = -1\n",
    "best_softmax = None\n",
    "\n",
    "################################################################################\n",
    "# TODO:                                                                        #\n",
    "# Use the validation set to set the learning rate and regularization strength. #\n",
    "# This should be identical to the validation that you did for the SVM; save    #\n",
    "# the best trained softmax classifer in best_softmax.                          #\n",
    "################################################################################\n",
    "\n",
    "# Provided as a reference. You may or may not want to change these hyperparameters\n",
    "learning_rates = [2e-7, 0.75e-7, 1.5e-7, 1.25e-7, 0.75e-7]\n",
    "regularization_strengths = [3e4, 3.25e4, 3.5e4,\n",
    "                            3.75e4, 4e4, 4.25e4, 4.5e4, 4.75e4, 5e4]\n",
    "\n",
    "# *****START OF YOUR CODE (DO NOT DELETE/MODIFY THIS LINE)*****\n",
    "\n",
    "for lr in learning_rates:\n",
    "    for reg in regularization_strengths:\n",
    "        softmax = Softmax()\n",
    "        softmax.train(X_train, y_train, lr, reg, num_iters=1000)\n",
    "        y_train_pred, y_val_pred = softmax.predict(\n",
    "            X_train), softmax.predict(X_val)\n",
    "        results[(lr, reg)] = np.mean(\n",
    "            y_train == y_train_pred), np.mean(y_val == y_val_pred)\n",
    "\n",
    "        if results[(lr, reg)][1] > best_val:\n",
    "            best_val = results[(lr, reg)][1]\n",
    "            best_softmax = softmax\n",
    "\n",
    "# *****END OF YOUR CODE (DO NOT DELETE/MODIFY THIS LINE)*****\n",
    "    \n",
    "# Print out results.\n",
    "for lr, reg in sorted(results):\n",
    "    train_accuracy, val_accuracy = results[(lr, reg)]\n",
    "    print('lr %e reg %e train accuracy: %f val accuracy: %f' % (\n",
    "                lr, reg, train_accuracy, val_accuracy))\n",
    "    \n",
    "print('best validation accuracy achieved during cross-validation: %f' % best_val)"
   ]
  },
  {
   "cell_type": "code",
   "execution_count": 41,
   "id": "f94a8f12",
   "metadata": {
    "test": "test"
   },
   "outputs": [
    {
     "name": "stdout",
     "output_type": "stream",
     "text": [
      "softmax on raw pixels final test set accuracy: 0.339000\n"
     ]
    }
   ],
   "source": [
    "# evaluate on test set\n",
    "# Evaluate the best softmax on test set\n",
    "y_test_pred = best_softmax.predict(X_test)\n",
    "test_accuracy = np.mean(y_test == y_test_pred)\n",
    "print('softmax on raw pixels final test set accuracy: %f' % (test_accuracy, ))"
   ]
  },
  {
   "cell_type": "markdown",
   "id": "7e2112ee",
   "metadata": {
    "tags": [
     "pdf-inline"
    ]
   },
   "source": [
    "**Inline Question 2** - *True or False*\n",
    "\n",
    "Suppose the overall training loss is defined as the sum of the per-datapoint loss over all training examples. It is possible to add a new datapoint to a training set that would leave the SVM loss unchanged, but this is not the case with the Softmax classifier loss.\n",
    "\n",
    "$\\color{blue}{\\textit Your Answer:}$\n",
    "\n",
    "_True_\n",
    "\n",
    "$\\color{blue}{\\textit Your Explanation:}$\n",
    "\n",
    "感性理解一下，SVM 是给每个分配分数，比较独立\n",
    "\n",
    "回想一下 SVM 的计算过程，概率是互相关联的，显然新增项无论如何都会造成影响\n",
    "\n",
    "Detailed Explanation from [Mantasu](https://github.com/mantasu/cs231n/blob/master/assignment1/softmax.ipynb)\n",
    "\n",
    "First, let's revise how individual loss functions look ($\\hat y$ - score, $i$ - any class label, $c$ - true class label):\n",
    "\n",
    "$$\\text{SVM loss: }\\ L_n = \\sum_{i\\ne c}^I\\max(0, \\hat y_i-\\hat y_c+\\Delta)$$\n",
    "\n",
    "$$\\text{Softmax loss: }\\ L_n=-\\log\\left(\\frac{e^{\\hat y_c}}{\\sum_{i=1}^Ie^{\\hat y_i}}\\right)$$\n",
    "\n",
    "Explanation:\n",
    "* The nature of **SVM loss** is to teach the model to assign a high enough score for the correct label. The total loss is unaffected if the scores for the incorrect labels are already lower by some margin than the score for a correct label because nothing is added to the overall loss.\n",
    "* The nature of **Softmax loss** is to make the model raise the probability for the correct label to `1` while the probabilities for other labels decrease to `0`. The loss is always affected because no matter what score is produced for an incorrect label, it still induces some probability which does not allow the true label to reach the probability of `1`.\n",
    "  * Aside: theoretically, if all the scores for incorrect classes were $-\\infty$, the probability of the correct class would be `1` so the individual loss would be $-\\log 1=0$ and that would not affect the overall loss\n",
    "* Assuming the overall loss is just the sum of every individual loss, the data point which produces safe score differences between the incorrect labels and a correct one is a data point that does not affect the **SVM loss**, however, it is guaranteed that it will affect the **Softmax loss** by some (however tiny) amount.\n",
    "\n",
    "Example:\n",
    "* Suppose we get a score vector $\\mathbf{\\hat y}=\\begin{bmatrix}1 \\\\ 0\\end{bmatrix}$ and that the first entry represents the score for a correct class, i.e., $\\hat y_1=1$.\n",
    "* Assuming our margin for **SVM loss** is `1`: $\\Delta=1$, the individual loss for $\\mathbf{\\hat y}$ is `0` because it satisfies the margin. However, the individual **Softmax loss** will produce a value of $\\log(1+e)-1$ which will affect the overall loss.\n",
    "\n",
    "<br>\n",
    "\n",
    "Hence it is possible to add a datapoint which would not affect the (described) overall **SVM loss** but would affect the overall **Softmax loss**."
   ]
  },
  {
   "cell_type": "code",
   "execution_count": 42,
   "id": "86d86120",
   "metadata": {},
   "outputs": [
    {
     "data": {
      "image/png": "[encoded data removed]",
      "text/plain": [
       "<Figure size 1000x800 with 10 Axes>"
      ]
     },
     "metadata": {},
     "output_type": "display_data"
    }
   ],
   "source": [
    "# Visualize the learned weights for each class\n",
    "w = best_softmax.W[:-1,:] # strip out the bias\n",
    "w = w.reshape(32, 32, 3, 10)\n",
    "\n",
    "w_min, w_max = np.min(w), np.max(w)\n",
    "\n",
    "classes = ['plane', 'car', 'bird', 'cat', 'deer', 'dog', 'frog', 'horse', 'ship', 'truck']\n",
    "for i in range(10):\n",
    "    plt.subplot(2, 5, i + 1)\n",
    "    \n",
    "    # Rescale the weights to be between 0 and 255\n",
    "    wimg = 255.0 * (w[:, :, :, i].squeeze() - w_min) / (w_max - w_min)\n",
    "    plt.imshow(wimg.astype('uint8'))\n",
    "    plt.axis('off')\n",
    "    plt.title(classes[i])"
   ]
  },
  {
   "cell_type": "code",
   "execution_count": null,
   "id": "24688f99",
   "metadata": {},
   "outputs": [],
   "source": []
  }
 ],
 "metadata": {
  "kernelspec": {
   "display_name": "Python 3",
   "language": "python",
   "name": "python3"
  },
  "language_info": {
   "codemirror_mode": {
    "name": "ipython",
    "version": 3
   },
   "file_extension": ".py",
   "mimetype": "text/x-python",
   "name": "python",
   "nbconvert_exporter": "python",
   "pygments_lexer": "ipython3",
   "version": "3.9.6"
  }
 },
 "nbformat": 4,
 "nbformat_minor": 5
}
